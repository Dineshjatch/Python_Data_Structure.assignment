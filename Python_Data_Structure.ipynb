{
  "nbformat": 4,
  "nbformat_minor": 0,
  "metadata": {
    "colab": {
      "provenance": []
    },
    "kernelspec": {
      "name": "python3",
      "display_name": "Python 3"
    },
    "language_info": {
      "name": "python"
    }
  },
  "cells": [
    {
      "cell_type": "markdown",
      "source": [
        "Data Types and Structures Questions\n",
        "1. What are data structures, and why are they important?\n",
        "  - Data structures organize and store data efficiently. They are important because they optimize data access, modification, and processing for various computational tasks.\n",
        "\n",
        "2. Explain the difference between mutable and immutable data types with examples.\n",
        "  - Mutable data types (like lists and dictionaries) can be changed after creation, whereas immutable data types (like tuples and strings) cannot be modified. Example: list = [1, 2, 3] (mutable), tuple = (1, 2, 3) (immutable).\n",
        "\n",
        "3. What are the main differences between lists and tuples in Python?\n",
        "  - Lists are mutable, slower, and use more memory, whereas tuples are immutable, faster, and use less memory. Lists are defined with [], and tuples with ().\n",
        "\n",
        "4. Describe how dictionaries store data.\n",
        "  - Dictionaries store data as key-value pairs using a hash table, allowing quick lookups and modifications. Example: dict = {\"name\": \"John\", \"age\": 25}.\n",
        "\n",
        "5. Why might you use a set instead of a list in Python?\n",
        "  - Sets remove duplicate values automatically and provide faster membership checks (in operator) due to their hash-based structure.\n",
        "\n",
        "6. What is a string in Python, and how is it different from a list?\n",
        "  - A string is an immutable sequence of characters, whereas a list is mutable and can store elements of different types. Example: \"hello\" (string) vs. ['h', 'e', 'l', 'l', 'o'] (list).\n",
        "\n",
        "7. How do tuples ensure data integrity in Python?\n",
        "  - Tuples are immutable, meaning their values cannot be changed after creation, ensuring data consistency and preventing accidental modifications.\n",
        "\n",
        "8. What is a hash table, and how does it relate to dictionaries in Python?\n",
        "  - A hash table stores key-value pairs using a hashing function for fast lookups. Python dictionaries use hash tables internally for efficient data retrieval.\n",
        "\n",
        "9. Can lists contain different data types in Python?\n",
        "  - Yes, lists can store elements of different data types, such as integers, strings, and even other lists. Example: [1, \"hello\", 3.14, [5, 6]].\n",
        "\n",
        "10. Explain why strings are immutable in Python.\n",
        "  - Strings are immutable to improve performance, security, and memory efficiency. Any modification creates a new string instead of altering the original.\n",
        "\n",
        "11. What advantages do dictionaries offer over lists for certain tasks?\n",
        "  - Dictionaries allow fast lookups by keys, making them more efficient than lists for searching and retrieving data when key-value relationships are needed.\n",
        "\n",
        "12. Describe a scenario where using a tuple would be preferable over a list.\n",
        "  - Tuples are preferred when storing fixed data, such as database records, coordinates, or function return values, where immutability ensures data consistency.\n",
        "\n",
        "13. How do sets handle duplicate values in Python?\n",
        "  - Sets automatically remove duplicate values and store only unique elements. Example: {1, 2, 2, 3} becomes {1, 2, 3}.\n",
        "\n",
        "14. How does the “in” keyword work differently for lists and dictionaries?\n",
        "  - In lists, in checks if a value exists, while in dictionaries, it checks for the presence of a key, not a value.\n",
        "\n",
        "15. Can you modify the elements of a tuple? Explain why or why not.\n",
        "  - No, tuples are immutable, meaning elements cannot be changed, added, or removed after creation.\n",
        "\n",
        "16. What is a nested dictionary, and give an example of its use case.\n",
        "  - A nested dictionary is a dictionary inside another dictionary, useful for storing hierarchical data. Example:\n",
        "student = {\"name\": \"John\", \"marks\": {\"math\": 90, \"science\": 85}}\n",
        "\n",
        "17. Describe the time complexity of accessing elements in a dictionary.\n",
        "  - Accessing an element in a dictionary has an average time complexity of O(1) due to hash table implementation.\n",
        "\n",
        "18. In what situations are lists preferred over dictionaries?\n",
        "  - Lists are preferred when ordering matters, sequential data storage is needed, or when keys are unnecessary.\n",
        "\n",
        "19. Why are dictionaries considered unordered, and how does that affect data retrieval?\n",
        "  - Dictionaries (before Python 3.7) do not guarantee order because they use hashing; however, in Python 3.7+, insertion order is maintained. Retrieval is always based on keys, not position.\n",
        "\n",
        "20. Explain the difference between a list and a dictionary in terms of data retrieval.\n",
        "  - Lists retrieve data by index, requiring O(n) for searching, while dictionaries retrieve data using keys in O(1) time due to hashing."
      ],
      "metadata": {
        "id": "JYSTRZrhgpVr"
      }
    },
    {
      "cell_type": "code",
      "source": [
        "#Practical Questions\n",
        "#1. Write a code to create a string with your name and print it.\n",
        "name = \"Dinesh Choudhary\"\n",
        "print(name)\n"
      ],
      "metadata": {
        "colab": {
          "base_uri": "https://localhost:8080/"
        },
        "id": "w4kx3EOgjCQs",
        "outputId": "33e51d91-54bf-479c-ff17-b4ac94eb2de6"
      },
      "execution_count": 2,
      "outputs": [
        {
          "output_type": "stream",
          "name": "stdout",
          "text": [
            "Dinesh Choudhary\n"
          ]
        }
      ]
    },
    {
      "cell_type": "code",
      "source": [
        "#2. Write a code to find the length of the string \"Hello World\".\n",
        "string = \"Hello World\"\n",
        "print(len(string))"
      ],
      "metadata": {
        "colab": {
          "base_uri": "https://localhost:8080/"
        },
        "id": "avJ_5-TyjE2D",
        "outputId": "c3ba9949-5771-479d-9933-88e1cd3449d9"
      },
      "execution_count": 3,
      "outputs": [
        {
          "output_type": "stream",
          "name": "stdout",
          "text": [
            "11\n"
          ]
        }
      ]
    },
    {
      "cell_type": "code",
      "source": [
        "#3. Write a code to slice the first 3 characters from the string \"Python Programming\".\n",
        "string = \"Python Programming\"\n",
        "print(string[:3])\n"
      ],
      "metadata": {
        "colab": {
          "base_uri": "https://localhost:8080/"
        },
        "id": "iw-FkdG6jQZE",
        "outputId": "670b4dc3-b768-4291-cf4d-26054c6ac02f"
      },
      "execution_count": 4,
      "outputs": [
        {
          "output_type": "stream",
          "name": "stdout",
          "text": [
            "Pyt\n"
          ]
        }
      ]
    },
    {
      "cell_type": "code",
      "source": [
        "#4. Write a code to convert the string \"hello\" to uppercase.\n",
        "string =\"Hello\"\n",
        "print(string.upper())"
      ],
      "metadata": {
        "colab": {
          "base_uri": "https://localhost:8080/"
        },
        "id": "cyJmtaFSjrxu",
        "outputId": "dfb6467d-1f0e-4dc9-a069-2d69b4aca060"
      },
      "execution_count": 5,
      "outputs": [
        {
          "output_type": "stream",
          "name": "stdout",
          "text": [
            "HELLO\n"
          ]
        }
      ]
    },
    {
      "cell_type": "code",
      "source": [
        "#5. Write a code to replace the word \"apple\" with \"orange\" in the string \"I like apple\".\n",
        "string=\"I like apple\"\n",
        "print(string.replace(\"apple\",\"orange\"))\n"
      ],
      "metadata": {
        "colab": {
          "base_uri": "https://localhost:8080/"
        },
        "id": "AlRASiE1km91",
        "outputId": "e2cc069c-ecda-4b8b-c729-fcfc607099da"
      },
      "execution_count": 9,
      "outputs": [
        {
          "output_type": "stream",
          "name": "stdout",
          "text": [
            "I like orange\n"
          ]
        }
      ]
    },
    {
      "cell_type": "code",
      "source": [
        "#6. Write a code to create a list with numbers 1 to 5 and print it.\n",
        "mylist =[]\n",
        "for i in range(1,5):\n",
        "  mylist.append(i)\n",
        "print(mylist)"
      ],
      "metadata": {
        "colab": {
          "base_uri": "https://localhost:8080/"
        },
        "id": "3xD4vjgBlfcy",
        "outputId": "8df522c8-cb0c-48ea-f6c6-59cbeee8de32"
      },
      "execution_count": 10,
      "outputs": [
        {
          "output_type": "stream",
          "name": "stdout",
          "text": [
            "[1, 2, 3, 4]\n"
          ]
        }
      ]
    },
    {
      "cell_type": "code",
      "source": [
        "#7. Write a code to append the number 10 to the list [1, 2, 3, 4].\n",
        "mylist=[1,2,3,4]\n",
        "mylist.append(10)\n",
        "print(mylist)"
      ],
      "metadata": {
        "colab": {
          "base_uri": "https://localhost:8080/"
        },
        "id": "RN5wHAYrluqf",
        "outputId": "1b0f585a-de78-4de7-dab8-feacf08fc48a"
      },
      "execution_count": 11,
      "outputs": [
        {
          "output_type": "stream",
          "name": "stdout",
          "text": [
            "[1, 2, 3, 4, 10]\n"
          ]
        }
      ]
    },
    {
      "cell_type": "code",
      "source": [
        "#8. Write a code to remove the number 3 from the list [1, 2, 3, 4, 5].\n",
        "mylist=[1,2,3,4,5]\n",
        "mylist.remove(3)\n",
        "print(mylist)"
      ],
      "metadata": {
        "colab": {
          "base_uri": "https://localhost:8080/"
        },
        "id": "_ckb1XWul-v9",
        "outputId": "0a4b0467-5373-4b7e-ec63-e431820fee7f"
      },
      "execution_count": 12,
      "outputs": [
        {
          "output_type": "stream",
          "name": "stdout",
          "text": [
            "[1, 2, 4, 5]\n"
          ]
        }
      ]
    },
    {
      "cell_type": "code",
      "source": [
        "#9. Write a code to access the second element in the list ['a', 'b', 'c', 'd'].\n",
        "my_list=['a','b','c','d']\n",
        "print(my_list[1])"
      ],
      "metadata": {
        "colab": {
          "base_uri": "https://localhost:8080/"
        },
        "id": "Ws1O57h4mJEr",
        "outputId": "0657d599-85c5-40f2-e35b-3fa45a5c2bd0"
      },
      "execution_count": 13,
      "outputs": [
        {
          "output_type": "stream",
          "name": "stdout",
          "text": [
            "b\n"
          ]
        }
      ]
    },
    {
      "cell_type": "code",
      "source": [
        "#10. Write a code to reverse the list [10, 20, 30, 40, 50].\n",
        "my_list=[10,20,30,40,50]\n",
        "my_list.reverse()\n",
        "print(my_list)"
      ],
      "metadata": {
        "colab": {
          "base_uri": "https://localhost:8080/"
        },
        "id": "pH2afE5xmYPA",
        "outputId": "3fe9b0ab-ddca-4626-f85b-8708b296b9d9"
      },
      "execution_count": 14,
      "outputs": [
        {
          "output_type": "stream",
          "name": "stdout",
          "text": [
            "[50, 40, 30, 20, 10]\n"
          ]
        }
      ]
    },
    {
      "cell_type": "code",
      "source": [
        "#11. Write a code to create a tuple with the elements 100, 200, 300 and print it.\n",
        "mytuple=(100,200,300)\n",
        "print(mytuple)"
      ],
      "metadata": {
        "colab": {
          "base_uri": "https://localhost:8080/"
        },
        "id": "kkLVeB6tmjgZ",
        "outputId": "cb97937e-82f4-44d6-bfbb-ac06c75722d6"
      },
      "execution_count": 15,
      "outputs": [
        {
          "output_type": "stream",
          "name": "stdout",
          "text": [
            "(100, 200, 300)\n"
          ]
        }
      ]
    },
    {
      "cell_type": "code",
      "source": [
        "#12. Write a code to access the second-to-last element of the tuple ('red', 'green', 'blue', 'yellow').\n",
        "my_tuple=('red','green','blue','yellow')\n",
        "print(my_tuple[1:])"
      ],
      "metadata": {
        "colab": {
          "base_uri": "https://localhost:8080/"
        },
        "id": "7h5kBZUPmuA0",
        "outputId": "7658a4e0-c1ec-48e8-ba9a-08d6020ce56a"
      },
      "execution_count": 16,
      "outputs": [
        {
          "output_type": "stream",
          "name": "stdout",
          "text": [
            "('green', 'blue', 'yellow')\n"
          ]
        }
      ]
    },
    {
      "cell_type": "code",
      "source": [
        "#13. Write a code to find the minimum number in the tuple (10, 20, 5, 15).\n",
        "my_tuple=(10,20,5,15)\n",
        "print(min(my_tuple))"
      ],
      "metadata": {
        "colab": {
          "base_uri": "https://localhost:8080/"
        },
        "id": "UG7m_PbbnHQr",
        "outputId": "4a11d62b-188a-4e33-8946-9cd32c2cde5d"
      },
      "execution_count": 17,
      "outputs": [
        {
          "output_type": "stream",
          "name": "stdout",
          "text": [
            "5\n"
          ]
        }
      ]
    },
    {
      "cell_type": "code",
      "source": [
        "#14. Write a code to find the index of the element \"cat\" in the tuple ('dog', 'cat', 'rabbit').\n",
        "my_tuple=('dog','cat','rabbit')\n",
        "print(my_tuple.index('cat'))"
      ],
      "metadata": {
        "colab": {
          "base_uri": "https://localhost:8080/"
        },
        "id": "czgQEuHdnRvS",
        "outputId": "dc9b5cfb-e77c-4b0e-865b-ee271443045b"
      },
      "execution_count": 18,
      "outputs": [
        {
          "output_type": "stream",
          "name": "stdout",
          "text": [
            "1\n"
          ]
        }
      ]
    },
    {
      "cell_type": "code",
      "source": [
        "#15. Write a code to create a tuple containing three different fruits and check if \"kiwi\" is in it.\n",
        "my_tuple=('apple','banana','kiwi')\n",
        "if 'kiwi' in my_tuple:\n",
        "  print(\"kiwi is in the tuple\")\n",
        "else:\n",
        "  print(\"kiwi is not in the tuple\")"
      ],
      "metadata": {
        "colab": {
          "base_uri": "https://localhost:8080/"
        },
        "id": "x02jm4xfngt8",
        "outputId": "d5982d6a-9746-4996-dbcf-13280927dd78"
      },
      "execution_count": 19,
      "outputs": [
        {
          "output_type": "stream",
          "name": "stdout",
          "text": [
            "kiwi is in the tuple\n"
          ]
        }
      ]
    },
    {
      "cell_type": "code",
      "source": [
        "#16.Write a code to create a set with the elements 'a', 'b', 'c' and print it.\n",
        "myset={'a','b','c'}\n",
        "print(myset)"
      ],
      "metadata": {
        "colab": {
          "base_uri": "https://localhost:8080/"
        },
        "id": "ir9dooU_n01S",
        "outputId": "a10ae0a4-a95f-43c8-b250-6be97623ac74"
      },
      "execution_count": 20,
      "outputs": [
        {
          "output_type": "stream",
          "name": "stdout",
          "text": [
            "{'b', 'a', 'c'}\n"
          ]
        }
      ]
    },
    {
      "cell_type": "code",
      "source": [
        "#17. Write a code to clear all elements from the set {1, 2, 3, 4, 5}.\n",
        "myset={1,2,3,4,5}\n",
        "myset.clear()\n",
        "print(myset)"
      ],
      "metadata": {
        "colab": {
          "base_uri": "https://localhost:8080/"
        },
        "id": "sZszMMBgoAXm",
        "outputId": "c27df0a3-81ea-4d6f-ec93-cebc7f5f8897"
      },
      "execution_count": 21,
      "outputs": [
        {
          "output_type": "stream",
          "name": "stdout",
          "text": [
            "set()\n"
          ]
        }
      ]
    },
    {
      "cell_type": "code",
      "source": [
        "#18. Write a code to remove the element 4 from the set {1, 2, 3, 4}.\n",
        "myset={1,2,3,4}\n",
        "myset.remove(4)\n",
        "print(myset)"
      ],
      "metadata": {
        "colab": {
          "base_uri": "https://localhost:8080/"
        },
        "id": "YmvCKpS1oOGA",
        "outputId": "ce74c89a-1ff2-4904-f784-ee8ffa7f908b"
      },
      "execution_count": 22,
      "outputs": [
        {
          "output_type": "stream",
          "name": "stdout",
          "text": [
            "{1, 2, 3}\n"
          ]
        }
      ]
    },
    {
      "cell_type": "code",
      "source": [
        "#19.Write a code to find the union of two sets {1, 2, 3} and {3, 4, 5}.\n",
        "set1={1,2,3}\n",
        "set2={3,4,5}\n",
        "union_set=set1.union(set2)\n",
        "print(union_set)"
      ],
      "metadata": {
        "colab": {
          "base_uri": "https://localhost:8080/"
        },
        "id": "TU07FORfoYuA",
        "outputId": "d7475d27-aaf9-4da4-b3a1-84444748ba37"
      },
      "execution_count": 24,
      "outputs": [
        {
          "output_type": "stream",
          "name": "stdout",
          "text": [
            "{1, 2, 3, 4, 5}\n"
          ]
        }
      ]
    },
    {
      "cell_type": "code",
      "source": [
        "#20. Write a code to find the intersection of two sets {1, 2, 3} and {2, 3, 4}.\n",
        "set1={1,2,3}\n",
        "set2={2,3,4}\n",
        "intersection_set=set1.intersection(set2)\n",
        "print(intersection_set)"
      ],
      "metadata": {
        "colab": {
          "base_uri": "https://localhost:8080/"
        },
        "id": "VNDTYls9pS_3",
        "outputId": "e354494c-0883-4e9b-fb8c-eeb0e914a109"
      },
      "execution_count": 29,
      "outputs": [
        {
          "output_type": "stream",
          "name": "stdout",
          "text": [
            "{2, 3}\n"
          ]
        }
      ]
    },
    {
      "cell_type": "code",
      "source": [
        "#21.Write a code to create a dictionary with the keys \"name\", \"age\", and \"city\", and print it.\n",
        "mydict={\"name\":\"John\",\"age\":25, 'city':'Jaipur'}\n",
        "print(mydict)"
      ],
      "metadata": {
        "colab": {
          "base_uri": "https://localhost:8080/"
        },
        "id": "p5UkFd3Wp3nN",
        "outputId": "a0379875-7dc4-4ece-dcf9-a6b1a181a4cf"
      },
      "execution_count": 30,
      "outputs": [
        {
          "output_type": "stream",
          "name": "stdout",
          "text": [
            "{'name': 'John', 'age': 25, 'city': 'Jaipur'}\n"
          ]
        }
      ]
    },
    {
      "cell_type": "code",
      "source": [
        "#22. Write a code to add a new key-value pair \"country\": \"USA\" to the dictionary {'name': 'John', 'age': 25}.\n",
        "mydict={\"name\":'John','age':25}\n",
        "mydict['country']='USA'\n",
        "print(mydict)"
      ],
      "metadata": {
        "colab": {
          "base_uri": "https://localhost:8080/"
        },
        "id": "A8tvALfdqWyt",
        "outputId": "51430452-5498-4994-e07e-2ac974f0476f"
      },
      "execution_count": 31,
      "outputs": [
        {
          "output_type": "stream",
          "name": "stdout",
          "text": [
            "{'name': 'John', 'age': 25, 'country': 'USA'}\n"
          ]
        }
      ]
    },
    {
      "cell_type": "code",
      "source": [
        "#23. Write a code to access the value associated with the key \"name\" in the dictionary {'name': 'Alice', 'age': 30}.\n",
        "mydict={'name':'Alice','age':30}\n",
        "print(mydict['name'])"
      ],
      "metadata": {
        "colab": {
          "base_uri": "https://localhost:8080/"
        },
        "id": "_gUSQsaqrZ1h",
        "outputId": "dc69aae0-402d-420a-c7cf-4f22eaf917d8"
      },
      "execution_count": 32,
      "outputs": [
        {
          "output_type": "stream",
          "name": "stdout",
          "text": [
            "Alice\n"
          ]
        }
      ]
    },
    {
      "cell_type": "code",
      "source": [
        "#24. Write a code to remove the key \"age\" from the dictionary {'name': 'Bob', 'age': 22, 'city': 'New York'}.\n",
        "mydict={'name':'Bob', 'age':22, 'city':'New York'}\n",
        "mydict.pop('age')\n",
        "print(mydict)"
      ],
      "metadata": {
        "colab": {
          "base_uri": "https://localhost:8080/"
        },
        "id": "owljS3mYrz0R",
        "outputId": "ce68c6bf-0419-480b-8f9a-8f51c3999cd4"
      },
      "execution_count": 34,
      "outputs": [
        {
          "output_type": "stream",
          "name": "stdout",
          "text": [
            "{'name': 'Bob', 'city': 'New York'}\n"
          ]
        }
      ]
    },
    {
      "cell_type": "code",
      "source": [
        "#25. Write a code to check if the key \"city\" exists in the dictionary {'name': 'Alice', 'city': 'Paris'}.\n",
        "mydict={'name':'Alice', 'city':'Paris'}\n",
        "if 'city' in mydict:\n",
        "  print(\"City is in the dictionary\")\n",
        "else:\n",
        "  print(\"City is not in the dictionary\")"
      ],
      "metadata": {
        "colab": {
          "base_uri": "https://localhost:8080/"
        },
        "id": "lzxKcNQasKCM",
        "outputId": "79e20013-0548-4e9a-a4d5-56c021e7ddc4"
      },
      "execution_count": 35,
      "outputs": [
        {
          "output_type": "stream",
          "name": "stdout",
          "text": [
            "City is in the dictionary\n"
          ]
        }
      ]
    },
    {
      "cell_type": "code",
      "source": [
        "#26. Write a code to create a list, a tuple, and a dictionary, and print them all.\n",
        "mylist=[1,2,3,4,5]\n",
        "mytuple=(1,2,3,4,5)\n",
        "mydict={1:'one', '2': 'two', 3:'three'}\n",
        "print(mylist)\n",
        "print(mytuple)\n",
        "print(mydict)\n",
        "#print(mylist, mytuple, mydict)"
      ],
      "metadata": {
        "colab": {
          "base_uri": "https://localhost:8080/"
        },
        "id": "j0N3N0wzsciH",
        "outputId": "672848b2-8161-4533-f820-8bff3e87174b"
      },
      "execution_count": 37,
      "outputs": [
        {
          "output_type": "stream",
          "name": "stdout",
          "text": [
            "[1, 2, 3, 4, 5]\n",
            "(1, 2, 3, 4, 5)\n",
            "{1: 'one', '2': 'two', 3: 'three'}\n"
          ]
        }
      ]
    },
    {
      "cell_type": "code",
      "source": [
        "#27. Write a code to create a list of 5 random numbers between 1 and 100, sort it in ascending order, and print the result.(replaced)\n",
        "import random\n",
        "random_list=[]\n",
        "for i in range(5):\n",
        "  random_list.append(random.randint(1,100))\n",
        "random_list.sort()\n",
        "print(random_list)\n"
      ],
      "metadata": {
        "colab": {
          "base_uri": "https://localhost:8080/"
        },
        "id": "g9sqS0_9tD9s",
        "outputId": "1387ed98-e3eb-4ee1-d08d-f71431989cb2"
      },
      "execution_count": 43,
      "outputs": [
        {
          "output_type": "stream",
          "name": "stdout",
          "text": [
            "[7, 24, 55, 57, 74]\n"
          ]
        }
      ]
    },
    {
      "cell_type": "code",
      "source": [
        "#28. Write a code to create a list with strings and print the element at the third index.\n",
        "string_list=['Dinesh', 'Anil', 'Vinit', 'Akash']\n",
        "print(string_list[3])"
      ],
      "metadata": {
        "colab": {
          "base_uri": "https://localhost:8080/"
        },
        "id": "FEmZeKYQtUKg",
        "outputId": "aabb8e52-e71d-4699-b719-bc08c5eb47f6"
      },
      "execution_count": 38,
      "outputs": [
        {
          "output_type": "stream",
          "name": "stdout",
          "text": [
            "Akash\n"
          ]
        }
      ]
    },
    {
      "cell_type": "code",
      "source": [
        "#29. Write a code to combine two dictionaries into one and print the result.\n",
        "dict1={1:'one', 2:'two', 3:'three'}\n",
        "dict2={4:'four', 5:'five', 6:'six'}\n",
        "dict1.update(dict2)\n",
        "print(dict1)"
      ],
      "metadata": {
        "colab": {
          "base_uri": "https://localhost:8080/"
        },
        "id": "MbpgoOR1tj4g",
        "outputId": "84d66852-aff3-479c-e986-c3161467256a"
      },
      "execution_count": 39,
      "outputs": [
        {
          "output_type": "stream",
          "name": "stdout",
          "text": [
            "{1: 'one', 2: 'two', 3: 'three', 4: 'four', 5: 'five', 6: 'six'}\n"
          ]
        }
      ]
    },
    {
      "cell_type": "code",
      "source": [
        "#30. Write a code to convert a list of strings into a set.\n",
        "string_list=['Dinesh', 'Anil', 'Vinit', 'Akash']\n",
        "convert_to_set=set(string_list)\n",
        "print(convert_to_set)"
      ],
      "metadata": {
        "colab": {
          "base_uri": "https://localhost:8080/"
        },
        "id": "kb7HvemrtusM",
        "outputId": "a8f7e4ac-f749-4abc-c331-405603707143"
      },
      "execution_count": 42,
      "outputs": [
        {
          "output_type": "stream",
          "name": "stdout",
          "text": [
            "{'Vinit', 'Dinesh', 'Anil', 'Akash'}\n"
          ]
        }
      ]
    }
  ]
}